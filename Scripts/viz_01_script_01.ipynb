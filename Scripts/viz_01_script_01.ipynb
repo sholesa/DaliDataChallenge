{
 "cells": [
  {
   "cell_type": "code",
   "execution_count": 1,
   "id": "a180f05e",
   "metadata": {},
   "outputs": [],
   "source": [
    "import pandas as pd\n",
    "import matplotlib as plt\n",
    "import geopandas as gpd"
   ]
  },
  {
   "cell_type": "code",
   "execution_count": 2,
   "id": "db147df9",
   "metadata": {},
   "outputs": [
    {
     "data": {
      "text/plain": [
       "Index(['Row ID', 'Order ID', 'Order Date', 'Ship Date', 'Ship Mode',\n",
       "       'Customer ID', 'Customer Name', 'Segment', 'Country', 'City', 'State',\n",
       "       'Postal Code', 'Region', 'Product ID', 'Category', 'Sub-Category',\n",
       "       'Product Name', 'Sales', 'Quantity', 'Discount', 'Profit'],\n",
       "      dtype='object')"
      ]
     },
     "execution_count": 2,
     "metadata": {},
     "output_type": "execute_result"
    }
   ],
   "source": [
    "df = pd.read_csv(\"../data/Sample - Superstore.csv\", encoding='windows-1254')\n",
    "df.columns"
   ]
  },
  {
   "cell_type": "code",
   "execution_count": 6,
   "id": "152a3e63",
   "metadata": {},
   "outputs": [
    {
     "name": "stdout",
     "output_type": "stream",
     "text": [
      "                      Category      Sales           %\n",
      "State                                                \n",
      "Alabama              Furniture   6332.480   32.456547\n",
      "Alabama        Office Supplies   4209.080   21.573254\n",
      "Alabama             Technology   8969.080   45.970199\n",
      "Arizona              Furniture  13525.291   38.334818\n",
      "Arizona        Office Supplies  10005.825   28.359573\n",
      "...                        ...        ...         ...\n",
      "West Virginia  Office Supplies    536.480   44.343640\n",
      "Wisconsin            Furniture  17256.610   53.734453\n",
      "Wisconsin      Office Supplies   6059.840   18.869418\n",
      "Wisconsin           Technology   8798.160   27.396129\n",
      "Wyoming              Furniture   1603.136  100.000000\n",
      "\n",
      "[142 rows x 3 columns]\n"
     ]
    }
   ],
   "source": [
    "viz1df = df.groupby([\"State\", \"Category\"]).agg(\"sum\")[\"Sales\"]\n",
    "viz1df = pd.DataFrame(viz1df)\n",
    "viz1df.reset_index(level=1, inplace=True)\n",
    "\n",
    "viz1df[\"%\"] = 100 * viz1df[\"Sales\"] / viz1df.groupby(\"State\")[\"Sales\"].transform(\"sum\")\n",
    "print(viz1df)\n",
    "\n",
    "viz1df.set_index(\"Category\", append=True)\n",
    "dftemp = viz1df[viz1df[\"Category\"] == \"Technology\"][\"%\"]\n",
    "viz1df = pd.merge(left = viz1df, right = dftemp, how=\"left\", left_on=\"State\", right_index=True)\n",
    "viz1df.rename(mapper= {\"%_x\":\"cat_pct\", \"%_y\":\"tech_pct\"}, axis=1, inplace=True)"
   ]
  },
  {
   "cell_type": "code",
   "execution_count": 4,
   "id": "438a3655",
   "metadata": {},
   "outputs": [
    {
     "data": {
      "text/html": [
       "<div>\n",
       "<style scoped>\n",
       "    .dataframe tbody tr th:only-of-type {\n",
       "        vertical-align: middle;\n",
       "    }\n",
       "\n",
       "    .dataframe tbody tr th {\n",
       "        vertical-align: top;\n",
       "    }\n",
       "\n",
       "    .dataframe thead th {\n",
       "        text-align: right;\n",
       "    }\n",
       "</style>\n",
       "<table border=\"1\" class=\"dataframe\">\n",
       "  <thead>\n",
       "    <tr style=\"text-align: right;\">\n",
       "      <th></th>\n",
       "      <th>Category</th>\n",
       "      <th>Sales</th>\n",
       "      <th>cat_pct</th>\n",
       "      <th>tech_pct</th>\n",
       "    </tr>\n",
       "    <tr>\n",
       "      <th>State</th>\n",
       "      <th></th>\n",
       "      <th></th>\n",
       "      <th></th>\n",
       "      <th></th>\n",
       "    </tr>\n",
       "  </thead>\n",
       "  <tbody>\n",
       "    <tr>\n",
       "      <th>Alabama</th>\n",
       "      <td>Furniture</td>\n",
       "      <td>6332.480</td>\n",
       "      <td>32.456547</td>\n",
       "      <td>45.970199</td>\n",
       "    </tr>\n",
       "    <tr>\n",
       "      <th>Alabama</th>\n",
       "      <td>Office Supplies</td>\n",
       "      <td>4209.080</td>\n",
       "      <td>21.573254</td>\n",
       "      <td>45.970199</td>\n",
       "    </tr>\n",
       "    <tr>\n",
       "      <th>Alabama</th>\n",
       "      <td>Technology</td>\n",
       "      <td>8969.080</td>\n",
       "      <td>45.970199</td>\n",
       "      <td>45.970199</td>\n",
       "    </tr>\n",
       "    <tr>\n",
       "      <th>Arizona</th>\n",
       "      <td>Furniture</td>\n",
       "      <td>13525.291</td>\n",
       "      <td>38.334818</td>\n",
       "      <td>33.305608</td>\n",
       "    </tr>\n",
       "    <tr>\n",
       "      <th>Arizona</th>\n",
       "      <td>Office Supplies</td>\n",
       "      <td>10005.825</td>\n",
       "      <td>28.359573</td>\n",
       "      <td>33.305608</td>\n",
       "    </tr>\n",
       "    <tr>\n",
       "      <th>...</th>\n",
       "      <td>...</td>\n",
       "      <td>...</td>\n",
       "      <td>...</td>\n",
       "      <td>...</td>\n",
       "    </tr>\n",
       "    <tr>\n",
       "      <th>West Virginia</th>\n",
       "      <td>Office Supplies</td>\n",
       "      <td>536.480</td>\n",
       "      <td>44.343640</td>\n",
       "      <td>0.000000</td>\n",
       "    </tr>\n",
       "    <tr>\n",
       "      <th>Wisconsin</th>\n",
       "      <td>Furniture</td>\n",
       "      <td>17256.610</td>\n",
       "      <td>53.734453</td>\n",
       "      <td>27.396129</td>\n",
       "    </tr>\n",
       "    <tr>\n",
       "      <th>Wisconsin</th>\n",
       "      <td>Office Supplies</td>\n",
       "      <td>6059.840</td>\n",
       "      <td>18.869418</td>\n",
       "      <td>27.396129</td>\n",
       "    </tr>\n",
       "    <tr>\n",
       "      <th>Wisconsin</th>\n",
       "      <td>Technology</td>\n",
       "      <td>8798.160</td>\n",
       "      <td>27.396129</td>\n",
       "      <td>27.396129</td>\n",
       "    </tr>\n",
       "    <tr>\n",
       "      <th>Wyoming</th>\n",
       "      <td>Furniture</td>\n",
       "      <td>1603.136</td>\n",
       "      <td>100.000000</td>\n",
       "      <td>0.000000</td>\n",
       "    </tr>\n",
       "  </tbody>\n",
       "</table>\n",
       "<p>142 rows × 4 columns</p>\n",
       "</div>"
      ],
      "text/plain": [
       "                      Category      Sales     cat_pct   tech_pct\n",
       "State                                                           \n",
       "Alabama              Furniture   6332.480   32.456547  45.970199\n",
       "Alabama        Office Supplies   4209.080   21.573254  45.970199\n",
       "Alabama             Technology   8969.080   45.970199  45.970199\n",
       "Arizona              Furniture  13525.291   38.334818  33.305608\n",
       "Arizona        Office Supplies  10005.825   28.359573  33.305608\n",
       "...                        ...        ...         ...        ...\n",
       "West Virginia  Office Supplies    536.480   44.343640   0.000000\n",
       "Wisconsin            Furniture  17256.610   53.734453  27.396129\n",
       "Wisconsin      Office Supplies   6059.840   18.869418  27.396129\n",
       "Wisconsin           Technology   8798.160   27.396129  27.396129\n",
       "Wyoming              Furniture   1603.136  100.000000   0.000000\n",
       "\n",
       "[142 rows x 4 columns]"
      ]
     },
     "execution_count": 4,
     "metadata": {},
     "output_type": "execute_result"
    }
   ],
   "source": [
    "viz1df.fillna(0, inplace=True)\n",
    "viz1df"
   ]
  },
  {
   "cell_type": "code",
   "execution_count": 161,
   "id": "cb419d6c",
   "metadata": {},
   "outputs": [],
   "source": [
    "viz1df.to_csv(\"../data/exported_viz1df.csv\")"
   ]
  },
  {
   "cell_type": "code",
   "execution_count": null,
   "id": "862f9700",
   "metadata": {},
   "outputs": [],
   "source": []
  }
 ],
 "metadata": {
  "kernelspec": {
   "display_name": "Python 3 (ipykernel)",
   "language": "python",
   "name": "python3"
  },
  "language_info": {
   "codemirror_mode": {
    "name": "ipython",
    "version": 3
   },
   "file_extension": ".py",
   "mimetype": "text/x-python",
   "name": "python",
   "nbconvert_exporter": "python",
   "pygments_lexer": "ipython3",
   "version": "3.9.7"
  }
 },
 "nbformat": 4,
 "nbformat_minor": 5
}
