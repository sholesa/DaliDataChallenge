{
 "cells": [
  {
   "cell_type": "code",
   "execution_count": 134,
   "id": "a180f05e",
   "metadata": {},
   "outputs": [],
   "source": [
    "import pandas as pd\n",
    "import matplotlib as plt\n",
    "import geopandas as gpd"
   ]
  },
  {
   "cell_type": "code",
   "execution_count": 87,
   "id": "db147df9",
   "metadata": {},
   "outputs": [
    {
     "data": {
      "text/plain": [
       "Index(['Row ID', 'Order ID', 'Order Date', 'Ship Date', 'Ship Mode',\n",
       "       'Customer ID', 'Customer Name', 'Segment', 'Country', 'City', 'State',\n",
       "       'Postal Code', 'Region', 'Product ID', 'Category', 'Sub-Category',\n",
       "       'Product Name', 'Sales', 'Quantity', 'Discount', 'Profit'],\n",
       "      dtype='object')"
      ]
     },
     "execution_count": 87,
     "metadata": {},
     "output_type": "execute_result"
    }
   ],
   "source": [
    "df = pd.read_csv(\"../data/Sample - Superstore.csv\", encoding='windows-1254')\n",
    "df.columns"
   ]
  },
  {
   "cell_type": "code",
   "execution_count": 158,
   "id": "152a3e63",
   "metadata": {},
   "outputs": [],
   "source": [
    "viz1df = df.groupby([\"State\", \"Category\"]).agg(\"sum\")[\"Sales\"]\n",
    "viz1df = pd.DataFrame(viz1df)\n",
    "viz1df.reset_index(level=1, inplace=True)\n",
    "\n",
    "viz1df\n",
    "viz1df[\"%\"] = 100 * viz1df[\"Sales\"] / viz1df.groupby(\"State\")[\"Sales\"].transform(\"sum\")\n",
    "viz1df.set_index(\"Category\", append=True)\n",
    "dftemp = viz1df[viz1df[\"Category\"] == \"Technology\"][\"%\"]\n",
    "viz1df = pd.merge(left = viz1df, right = dftemp, how=\"left\", left_on=\"State\", right_index=True)\n",
    "viz1df.rename(mapper= {\"%_x\":\"cat_pct\", \"%_y\":\"tech_pct\"}, axis=1, inplace=True)"
   ]
  },
  {
   "cell_type": "code",
   "execution_count": 160,
   "id": "438a3655",
   "metadata": {},
   "outputs": [],
   "source": [
    "viz1df.fillna(0, inplace=True)"
   ]
  },
  {
   "cell_type": "code",
   "execution_count": 161,
   "id": "cb419d6c",
   "metadata": {},
   "outputs": [],
   "source": [
    "viz1df.to_csv(\"../data/exported_viz1df.csv\")"
   ]
  },
  {
   "cell_type": "code",
   "execution_count": null,
   "id": "862f9700",
   "metadata": {},
   "outputs": [],
   "source": []
  }
 ],
 "metadata": {
  "kernelspec": {
   "display_name": "Python 3 (ipykernel)",
   "language": "python",
   "name": "python3"
  },
  "language_info": {
   "codemirror_mode": {
    "name": "ipython",
    "version": 3
   },
   "file_extension": ".py",
   "mimetype": "text/x-python",
   "name": "python",
   "nbconvert_exporter": "python",
   "pygments_lexer": "ipython3",
   "version": "3.9.7"
  }
 },
 "nbformat": 4,
 "nbformat_minor": 5
}
