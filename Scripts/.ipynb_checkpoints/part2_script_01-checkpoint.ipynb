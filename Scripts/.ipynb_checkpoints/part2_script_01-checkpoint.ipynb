{
 "cells": [
  {
   "cell_type": "code",
   "execution_count": 1,
   "id": "00bdd207",
   "metadata": {},
   "outputs": [],
   "source": [
    "import pandas as pd\n",
    "import numpy as np\n",
    "from plotnine import *\n",
    "import re\n",
    "import matplotlib.pylab as plt\n",
    "import matplotlib.dates as mdates\n",
    "import math"
   ]
  },
  {
   "cell_type": "code",
   "execution_count": 2,
   "id": "d6462ee0",
   "metadata": {},
   "outputs": [],
   "source": [
    "from sklearn.feature_extraction.text import CountVectorizer\n",
    "from sklearn.model_selection import train_test_split\n",
    "from sklearn.tree import DecisionTreeClassifier\n",
    "from sklearn.ensemble import RandomForestClassifier, GradientBoostingClassifier, AdaBoostClassifier\n",
    "from sklearn.linear_model import LogisticRegression, LogisticRegressionCV\n",
    "from sklearn.metrics import accuracy_score, f1_score, precision_score, recall_score\n",
    "import random"
   ]
  },
  {
   "cell_type": "code",
   "execution_count": 3,
   "id": "1af546e3",
   "metadata": {},
   "outputs": [],
   "source": [
    "df = pd.read_csv(\"../data/Sample - Superstore.csv\", encoding='windows-1254')\n",
    "df = df[df[\"Discount\"] == 0]\n",
    "df[\"zip_sub\"] = (df[\"Postal Code\"] / 100).apply(\"floor\").astype(int)\n"
   ]
  },
  {
   "cell_type": "code",
   "execution_count": 4,
   "id": "2af449b7",
   "metadata": {},
   "outputs": [
    {
     "data": {
      "text/plain": [
       "100    650\n",
       "900    466\n",
       "941    336\n",
       "981    293\n",
       "482    109\n",
       "      ... \n",
       "665      1\n",
       "297      1\n",
       "488      1\n",
       "944      1\n",
       "507      1\n",
       "Name: zip_sub, Length: 248, dtype: int64"
      ]
     },
     "execution_count": 4,
     "metadata": {},
     "output_type": "execute_result"
    }
   ],
   "source": [
    "df[\"zip_sub\"].value_counts()"
   ]
  },
  {
   "cell_type": "code",
   "execution_count": 5,
   "id": "7f30dc4a",
   "metadata": {},
   "outputs": [
    {
     "name": "stdout",
     "output_type": "stream",
     "text": [
      "        Segment\n",
      "0      Consumer\n",
      "1      Consumer\n",
      "2     Corporate\n",
      "5      Consumer\n",
      "6      Consumer\n",
      "...         ...\n",
      "9987  Corporate\n",
      "9988  Corporate\n",
      "9990   Consumer\n",
      "9992   Consumer\n",
      "9993   Consumer\n",
      "\n",
      "[4798 rows x 1 columns]\n",
      "      index  zip_sub  Quantity   Sales  Sub-Category  Ship Mode\n",
      "0         0      424         2  261.96            15          2\n",
      "1         1      424         3  731.94            11          2\n",
      "2         2      900         2   14.62             9          2\n",
      "3         5      900         7   48.86             2          1\n",
      "4         6      900         4    7.28             4          1\n",
      "...     ...      ...       ...     ...           ...        ...\n",
      "4793   9987      306         1   79.99             5          1\n",
      "4794   9988      306         5  206.10             7          1\n",
      "4795   9990      926         2   91.96             2          1\n",
      "4796   9992      926         4   29.60             1          1\n",
      "4797   9993      926         2  243.16             8          2\n",
      "\n",
      "[4798 rows x 6 columns]\n"
     ]
    }
   ],
   "source": [
    "X = df[[\"zip_sub\", \"Quantity\", \"Sales\", \"Sub-Category\", \"Ship Mode\"]]\n",
    "# X = df[[\"Region\", \"Sub-Category\", \"Sales\", \"Quantity\"]]\n",
    "y1 = df[[\"Segment\"]]\n",
    "print(y1)\n",
    "y1 = y1.reset_index()\n",
    "X = X.reset_index()\n",
    "X[\"Ship Mode\"] = X[\"Ship Mode\"].map({\"Standard Class\": 1,\n",
    "                              \"Second Class\": 2,\n",
    "                              \"First Class\": 3,\n",
    "                              \"Same Day\": 4})\n",
    "y1[\"Segment\"] = y1[\"Segment\"].map({\"Corporate\": 1,\n",
    "                              \"Consumer\": 2,\n",
    "                              \"Home Office\": 3})\n",
    "# y1[\"Category\"] = y1[\"Category\"].map({\"Office Supplies\": 1,\n",
    "#                               \"Furniture\": 2,\n",
    "#                               \"Technology\": 3})\n",
    "# X[\"Region\"] = X[\"Region\"].map({\"West\": 1,\n",
    "#                               \"East\": 2,\n",
    "#                               \"Central\": 3,\n",
    "#                               \"South\": 4})\n",
    "X[\"Sub-Category\"] = X[\"Sub-Category\"].map({\"Paper\": 1,\n",
    "                                          \"Furnishings\": 2,\n",
    "                                          \"Storage\": 3,\n",
    "                                          \"Art\": 4,\n",
    "                                          \"Accessories\": 5,\n",
    "                                          \"Binders\": 6,\n",
    "                                          \"Phones\": 7,\n",
    "                                          \"Appliances\": 8,\n",
    "                                          \"Labels\": 9,\n",
    "                                          \"Envelopes\": 10,\n",
    "                                          \"Chairs\": 11,\n",
    "                                          \"Fasteners\": 12,\n",
    "                                          \"Supplies\": 13,\n",
    "                                          \"Tables\": 14,\n",
    "                                          \"Bookcases\": 15,\n",
    "                                          \"Machines\": 16,\n",
    "                                          \"Copiers\": 17})\n",
    "\n",
    "print(X)\n",
    "X.rename(columns={\"index\": \"metadata_rowid\"}, inplace=True)\n",
    "y1.rename(columns={\"index\": \"metadata_rowid\"}, inplace=True)\n",
    "\n",
    "\n",
    "assert (X.shape[0] == y1.shape[0])\n",
    "y1.drop(columns = \"metadata_rowid\",inplace=True)\n",
    "\n",
    "\n",
    "### using built-in function\n"
   ]
  },
  {
   "cell_type": "code",
   "execution_count": 14,
   "id": "9693fb0f",
   "metadata": {},
   "outputs": [],
   "source": [
    "X_train, X_test, y1_train, y1_test = train_test_split(X, y1, \n",
    "                                                   test_size = 0.25,\n",
    "                                                   random_state = 221)\n",
    "X_train = X_train[X_train.index.isin(y1_train.index)]\n",
    "non_feat = ['metadata_rowid']\n",
    "dt = DecisionTreeClassifier(random_state=0, max_depth = 10)\n",
    "dt.fit(X_train[[col for col in X_train.columns if col not in \n",
    "                   non_feat]], y1_train)\n",
    "\n",
    "\n",
    "\n",
    "y1_pred = dt.predict(X_test[[col for col \n",
    "                in X_test.columns if col not in non_feat]])\n",
    "y1_predprob = dt.predict_proba(X_test[[col for col \n",
    "                in X_test.columns if col not in non_feat]])\n",
    "\n",
    "\n",
    "feat_imp = pd.DataFrame({'feature_imp': dt.feature_importances_,\n",
    "                         'feature_name': \n",
    "                        [col for col in X_train.columns if col not in non_feat]})\n",
    "feat_imp.sort_values(by = 'feature_imp', ascending = False)\n",
    "\n",
    "y1_pred_df = pd.DataFrame({'y_pred': y1_pred,\n",
    "                                  'y_true': y1_test[\"Segment\"]})"
   ]
  },
  {
   "cell_type": "code",
   "execution_count": 15,
   "id": "79d0dce5",
   "metadata": {},
   "outputs": [
    {
     "data": {
      "text/plain": [
       "Consumer       2461\n",
       "Corporate      1427\n",
       "Home Office     910\n",
       "Name: Segment, dtype: int64"
      ]
     },
     "execution_count": 15,
     "metadata": {},
     "output_type": "execute_result"
    }
   ],
   "source": [
    "df.Region.value_counts()\n",
    "df[\"Segment\"].value_counts()"
   ]
  },
  {
   "cell_type": "code",
   "execution_count": 16,
   "id": "0a9702cd",
   "metadata": {},
   "outputs": [
    {
     "name": "stdout",
     "output_type": "stream",
     "text": [
      "   feature_imp  feature_name\n",
      "0     0.329691       zip_sub\n",
      "2     0.270707         Sales\n",
      "3     0.154600  Sub-Category\n",
      "4     0.123355     Ship Mode\n",
      "1     0.121647      Quantity\n",
      "      y_pred  y_true\n",
      "1352       3       3\n",
      "1563       2       2\n",
      "2515       2       3\n",
      "1726       2       2\n",
      "1047       2       2\n",
      "...      ...     ...\n",
      "2173       1       2\n",
      "2060       2       3\n",
      "3679       1       2\n",
      "4232       2       1\n",
      "2863       2       2\n",
      "\n",
      "[1200 rows x 2 columns]\n",
      "618\n",
      "^^\n",
      "\n"
     ]
    }
   ],
   "source": [
    "print(feat_imp.sort_values(by = 'feature_imp', ascending = False))\n",
    "print(y1_pred_df)\n",
    "y1_pred_df.sort_values(by = \"y_pred\", ascending = False)\n",
    "y1_pred_df.sort_values(by = \"y_true\", ascending = False)\n",
    "print(len(y1_pred_df[y1_pred_df[\"y_pred\"] == y1_pred_df[\"y_true\"]]))\n",
    "print(\"^^\\n\")\n",
    "\n",
    "\n",
    "#print(y_pred_df_internal.head())\n",
    "#print(y_pred_df_internal.sample(n = 10, random_state = 4484))\n",
    "top_feat = feat_imp.sort_values(by = 'feature_imp', ascending = False)[0:10]\n",
    "top_feat_list = top_feat.feature_name.to_list()"
   ]
  },
  {
   "cell_type": "code",
   "execution_count": 18,
   "id": "ff24b83f",
   "metadata": {},
   "outputs": [
    {
     "data": {
      "text/html": [
       "<div>\n",
       "<style scoped>\n",
       "    .dataframe tbody tr th:only-of-type {\n",
       "        vertical-align: middle;\n",
       "    }\n",
       "\n",
       "    .dataframe tbody tr th {\n",
       "        vertical-align: top;\n",
       "    }\n",
       "\n",
       "    .dataframe thead th {\n",
       "        text-align: right;\n",
       "    }\n",
       "</style>\n",
       "<table border=\"1\" class=\"dataframe\">\n",
       "  <thead>\n",
       "    <tr style=\"text-align: right;\">\n",
       "      <th></th>\n",
       "      <th>y_pred</th>\n",
       "      <th>y_true</th>\n",
       "    </tr>\n",
       "  </thead>\n",
       "  <tbody>\n",
       "    <tr>\n",
       "      <th>1352</th>\n",
       "      <td>Home Office</td>\n",
       "      <td>Home Office</td>\n",
       "    </tr>\n",
       "    <tr>\n",
       "      <th>1563</th>\n",
       "      <td>Consumer</td>\n",
       "      <td>Consumer</td>\n",
       "    </tr>\n",
       "    <tr>\n",
       "      <th>2515</th>\n",
       "      <td>Consumer</td>\n",
       "      <td>Home Office</td>\n",
       "    </tr>\n",
       "    <tr>\n",
       "      <th>1726</th>\n",
       "      <td>Consumer</td>\n",
       "      <td>Consumer</td>\n",
       "    </tr>\n",
       "    <tr>\n",
       "      <th>1047</th>\n",
       "      <td>Consumer</td>\n",
       "      <td>Consumer</td>\n",
       "    </tr>\n",
       "    <tr>\n",
       "      <th>...</th>\n",
       "      <td>...</td>\n",
       "      <td>...</td>\n",
       "    </tr>\n",
       "    <tr>\n",
       "      <th>2173</th>\n",
       "      <td>Corporate</td>\n",
       "      <td>Consumer</td>\n",
       "    </tr>\n",
       "    <tr>\n",
       "      <th>2060</th>\n",
       "      <td>Consumer</td>\n",
       "      <td>Home Office</td>\n",
       "    </tr>\n",
       "    <tr>\n",
       "      <th>3679</th>\n",
       "      <td>Corporate</td>\n",
       "      <td>Consumer</td>\n",
       "    </tr>\n",
       "    <tr>\n",
       "      <th>4232</th>\n",
       "      <td>Consumer</td>\n",
       "      <td>Corporate</td>\n",
       "    </tr>\n",
       "    <tr>\n",
       "      <th>2863</th>\n",
       "      <td>Consumer</td>\n",
       "      <td>Consumer</td>\n",
       "    </tr>\n",
       "  </tbody>\n",
       "</table>\n",
       "<p>1200 rows × 2 columns</p>\n",
       "</div>"
      ],
      "text/plain": [
       "           y_pred       y_true\n",
       "1352  Home Office  Home Office\n",
       "1563     Consumer     Consumer\n",
       "2515     Consumer  Home Office\n",
       "1726     Consumer     Consumer\n",
       "1047     Consumer     Consumer\n",
       "...           ...          ...\n",
       "2173    Corporate     Consumer\n",
       "2060     Consumer  Home Office\n",
       "3679    Corporate     Consumer\n",
       "4232     Consumer    Corporate\n",
       "2863     Consumer     Consumer\n",
       "\n",
       "[1200 rows x 2 columns]"
      ]
     },
     "execution_count": 18,
     "metadata": {},
     "output_type": "execute_result"
    }
   ],
   "source": [
    "y_pred_df_str = y1_pred_df.replace({1: \"Corporate\",\n",
    "                                   2: \"Consumer\",\n",
    "                                   3: \"Home Office\"})\n",
    "y_pred_df_str"
   ]
  },
  {
   "cell_type": "code",
   "execution_count": 19,
   "id": "90ddfa7b",
   "metadata": {},
   "outputs": [],
   "source": [
    "conds = [\n",
    "    (y_pred_df_str[\"y_pred\"] == \"Consumer\") & (y_pred_df_str[\"y_true\"] == \"Corporate\"),\n",
    "    (y_pred_df_str[\"y_pred\"] == \"Consumer\") & (y_pred_df_str[\"y_true\"] == \"Home Office\"),\n",
    "    (y_pred_df_str[\"y_pred\"] == \"Home Office\") & (y_pred_df_str[\"y_true\"] == \"Corporate\"),\n",
    "    (y_pred_df_str[\"y_pred\"] == \"Home Office\") & (y_pred_df_str[\"y_true\"] == \"Consumer\"),\n",
    "    (y_pred_df_str[\"y_pred\"] == \"Corporate\") & (y_pred_df_str[\"y_true\"] == \"Consumer\"),\n",
    "    (y_pred_df_str[\"y_pred\"] == \"Corporate\") & (y_pred_df_str[\"y_true\"] == \"Home Office\"),\n",
    "    y_pred_df_str[\"y_pred\"] == y_pred_df_str[\"y_true\"]\n",
    "]\n",
    "\n",
    "choices = [\n",
    "    \"Cons/Corp\",\n",
    "    \"Cons/HO\",\n",
    "    \"HO/Corp\",\n",
    "    \"HO/Cons\",\n",
    "    \"Corp/Cons\",\n",
    "    \"Corp/HO\",\n",
    "    \"Correct\"\n",
    "]"
   ]
  },
  {
   "cell_type": "code",
   "execution_count": 20,
   "id": "a1661e85",
   "metadata": {},
   "outputs": [],
   "source": [
    "y_pred_df_str[\"pred_true\"] = np.select(condlist=conds, choicelist=choices)"
   ]
  },
  {
   "cell_type": "code",
   "execution_count": 22,
   "id": "fdfd8025",
   "metadata": {},
   "outputs": [
    {
     "data": {
      "text/plain": [
       "Correct      618\n",
       "Cons/Corp    258\n",
       "Cons/HO      192\n",
       "Corp/Cons     71\n",
       "Corp/HO       25\n",
       "HO/Cons       21\n",
       "HO/Corp       15\n",
       "Name: pred_true, dtype: int64"
      ]
     },
     "execution_count": 22,
     "metadata": {},
     "output_type": "execute_result"
    }
   ],
   "source": [
    "y_pred_df_str.pred_true.value_counts()"
   ]
  }
 ],
 "metadata": {
  "kernelspec": {
   "display_name": "Python 3 (ipykernel)",
   "language": "python",
   "name": "python3"
  },
  "language_info": {
   "codemirror_mode": {
    "name": "ipython",
    "version": 3
   },
   "file_extension": ".py",
   "mimetype": "text/x-python",
   "name": "python",
   "nbconvert_exporter": "python",
   "pygments_lexer": "ipython3",
   "version": "3.9.7"
  }
 },
 "nbformat": 4,
 "nbformat_minor": 5
}
